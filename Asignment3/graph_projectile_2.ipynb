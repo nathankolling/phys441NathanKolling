{
 "cells": [
  {
   "cell_type": "markdown",
   "source": [
    "# Assignment 3"
   ],
   "metadata": {
    "collapsed": false
   }
  },
  {
   "cell_type": "code",
   "execution_count": 2,
   "metadata": {
    "ExecuteTime": {
     "end_time": "2023-10-05T21:57:54.042284Z",
     "start_time": "2023-10-05T21:57:53.542274600Z"
    }
   },
   "outputs": [],
   "source": [
    "from array import array\n",
    "import numpy as np\n",
    "import math"
   ]
  },
  {
   "cell_type": "markdown",
   "source": [
    "## 1a)"
   ],
   "metadata": {
    "collapsed": false
   }
  },
  {
   "cell_type": "code",
   "execution_count": 24,
   "outputs": [],
   "source": [
    "theta_to_distance = {}\n",
    "thetas = np.linspace(0, 90, 500)\n",
    "\n",
    "# Initial Conditions\n",
    "speed = 55.8\n",
    "y1 = 0.0\n",
    "\n",
    "\n",
    "# Other constants - golf ball - D = 0.0427m, m = 0.04593kg\n",
    "Cd = 0.20 # drag coefficient\n",
    "area = 0.001432 # cross sectional area of projectile\n",
    "grav = 9.81 # gravitional acceleration\n",
    "mass = 0.04593 # mass in kg\n",
    "rho = 1.225 # density of air (kg/m^3)\n",
    "air_const = -0.5*Cd*rho*area/mass\n",
    "Pi = math.pi\n",
    "\n",
    "for theta in thetas:\n",
    "    r1 = array('d')\n",
    "    v1 = array('d')\n",
    "    r = array('d')\n",
    "    v = array('d')\n",
    "    accel = array('d')\n",
    "    \n",
    "    r1.append(0)\n",
    "    r1.append(y1)\n",
    "    v1.append(speed*math.cos(theta*Pi/180.0))\n",
    "    v1.append(speed*math.sin(theta*Pi/180.0))\n",
    "    \n",
    "    r.append(r1[0])\n",
    "    r.append(r1[1])\n",
    "    v.append(v1[0])\n",
    "    v.append(v1[1])\n",
    "    accel.append(0)\n",
    "    accel.append(0)\n",
    "    \n",
    "    # Setup arrays for Euler and Euler-Cromer Methods\n",
    "    re = array('d')\n",
    "    ve = array('d')\n",
    "    accele = array('d')\n",
    "    \n",
    "    re.append(r1[0])\n",
    "    re.append(r1[1])\n",
    "    ve.append(v1[0])\n",
    "    ve.append(v1[1])\n",
    "    accele.append(0)\n",
    "    accele.append(0)\n",
    "    \n",
    "    rec = array('d')\n",
    "    vec = array('d')\n",
    "    accelec = array('d')\n",
    "    \n",
    "    rec.append(r1[0])\n",
    "    rec.append(r1[1])\n",
    "    vec.append(v1[0])\n",
    "    vec.append(v1[1])\n",
    "    accelec.append(0)\n",
    "    accelec.append(0)\n",
    "    \n",
    "    tau = 0.02 # timestep in seconds\n",
    "    maxStep = 1000000 # maximum number of steps\n",
    "    \n",
    "    xplot = array('d')\n",
    "    yplot = array('d')\n",
    "    xplote = array('d')\n",
    "    yplote = array('d')\n",
    "    xplotec = array('d')\n",
    "    yplotec = array('d')\n",
    "    xNoAir = array('d')\n",
    "    yNoAir = array('d')\n",
    "    time = array('d')\n",
    "    timee = array('d')\n",
    "    timeec = array('d')\n",
    "    timeNoAir = array('d')\n",
    "    for iStep in range(1,maxStep+1):\n",
    "        \n",
    "        t = (iStep-1)*tau\n",
    "            \n",
    "        xplot.append(r[0])\n",
    "        yplot.append(r[1])\n",
    "        xplote.append(re[0])\n",
    "        yplote.append(re[1])\n",
    "        xplotec.append(rec[0])\n",
    "        yplotec.append(rec[1])\n",
    "        xNoAir.append(r1[0]+v1[0]*t)\n",
    "        yNoAir.append(r1[1]+v1[1]*t-0.5*grav*t*t)\n",
    "        \n",
    "        timeNoAir.append(t)\n",
    "        time.append(t)\n",
    "        timee.append(t)\n",
    "        timeec.append(t)\n",
    "        \n",
    "        # Euler Method\n",
    "        normVe = math.sqrt(ve[0]*ve[0]+ve[1]*ve[1])\n",
    "        accele[0]=air_const*normVe*ve[0]\n",
    "        accele[1]=air_const*normVe*ve[1]-grav\n",
    "        re[0] = re[0] + tau*ve[0]\n",
    "        re[1] = re[1] + tau*ve[1]\n",
    "        ve[0] = ve[0] + tau*accele[0]\n",
    "        ve[1] = ve[1] + tau*accele[1]\n",
    "        \n",
    "        # Euler-Cromer Method\n",
    "        normVec = math.sqrt(vec[0]*vec[0]+vec[1]*vec[1])\n",
    "        accelec[0]=air_const*normVec*vec[0]\n",
    "        accelec[1]=air_const*normVec*vec[1]-grav\n",
    "        vec[0] = vec[0] + tau*accelec[0]\n",
    "        vec[1] = vec[1] + tau*accelec[1]    \n",
    "        rec[0] = rec[0] + tau*vec[0]\n",
    "        rec[1] = rec[1] + tau*vec[1]\n",
    "        \n",
    "        # MidPoint Method\n",
    "        normV = math.sqrt(v[0]*v[0]+v[1]*v[1])\n",
    "        accel[0]=air_const*normV*v[0]\n",
    "        accel[1]=air_const*normV*v[1]-grav\n",
    "        vxnew = v[0] + tau*accel[0]\n",
    "        vynew = v[1] + tau*accel[1]\n",
    "        r[0] = r[0] + tau*(v[0] + vxnew)/2.0\n",
    "        r[1] = r[1] + tau*(v[1] + vynew)/2.0\n",
    "        v[0] = vxnew\n",
    "        v[1] = vynew\n",
    "        if r[1] < 0 and v[1] < 0:\n",
    "            xplot.append(r[0])\n",
    "            yplot.append(r[1])\n",
    "            xplote.append(re[0])\n",
    "            yplote.append(re[1])\n",
    "            xplotec.append(rec[0])\n",
    "            yplotec.append(rec[1])\n",
    "            time.append(tau*iStep)\n",
    "            timee.append(tau*iStep)\n",
    "            timeec.append(tau*iStep)\n",
    "            endtime = tau*iStep\n",
    "            nelements = iStep\n",
    "            break\n",
    "    theta_to_distance[theta] = r[0]"
   ],
   "metadata": {
    "collapsed": false,
    "ExecuteTime": {
     "end_time": "2023-10-05T22:24:54.486819500Z",
     "start_time": "2023-10-05T22:24:52.845394Z"
    }
   }
  },
  {
   "cell_type": "code",
   "execution_count": 25,
   "outputs": [
    {
     "name": "stdout",
     "output_type": "stream",
     "text": [
      "Opimal theta is ~ 40.04 degrees with value of 174.87 meters.\n"
     ]
    }
   ],
   "source": [
    "print(f\"Opimal theta is ~ {np.round(max(theta_to_distance, key=theta_to_distance.get), 2)} degrees with value of {np.round(theta_to_distance[max(theta_to_distance, key=theta_to_distance.get)], 2)} meters.\")"
   ],
   "metadata": {
    "collapsed": false,
    "ExecuteTime": {
     "end_time": "2023-10-05T22:24:54.563881500Z",
     "start_time": "2023-10-05T22:24:54.499909200Z"
    }
   }
  },
  {
   "cell_type": "markdown",
   "source": [
    "## 1b)"
   ],
   "metadata": {
    "collapsed": false
   }
  },
  {
   "cell_type": "code",
   "execution_count": 29,
   "outputs": [],
   "source": [
    "theta_to_distance = {}\n",
    "thetas = np.linspace(0, 90, 500)\n",
    "\n",
    "# Initial Conditions\n",
    "speed = 44.704 # m/s = 100 mph\n",
    "y1 = 1 # m\n",
    "\n",
    "\n",
    "# Other constants - golf ball - D = 0.074m, m = 0.1455kg\n",
    "Cd = 0.35 # drag coefficient from here: https://www.mdpi.com/2076-3417/12/3/1416 (ignore the first chart, its for knucke balls)\n",
    "area = 0.004301 # cross sectional area of projectile\n",
    "grav = 9.81 # gravitional acceleration\n",
    "mass = 0.1455 # mass in kg\n",
    "rho = 1.225 # density of air (kg/m^3)\n",
    "air_const = -0.5*Cd*rho*area/mass\n",
    "Pi = math.pi\n",
    "\n",
    "for theta in thetas:\n",
    "    r1 = array('d')\n",
    "    v1 = array('d')\n",
    "    r = array('d')\n",
    "    v = array('d')\n",
    "    accel = array('d')\n",
    "    \n",
    "    r1.append(0)\n",
    "    r1.append(y1)\n",
    "    v1.append(speed*math.cos(theta*Pi/180.0))\n",
    "    v1.append(speed*math.sin(theta*Pi/180.0))\n",
    "    \n",
    "    r.append(r1[0])\n",
    "    r.append(r1[1])\n",
    "    v.append(v1[0])\n",
    "    v.append(v1[1])\n",
    "    accel.append(0)\n",
    "    accel.append(0)\n",
    "    \n",
    "    # Setup arrays for Euler and Euler-Cromer Methods\n",
    "    re = array('d')\n",
    "    ve = array('d')\n",
    "    accele = array('d')\n",
    "    \n",
    "    re.append(r1[0])\n",
    "    re.append(r1[1])\n",
    "    ve.append(v1[0])\n",
    "    ve.append(v1[1])\n",
    "    accele.append(0)\n",
    "    accele.append(0)\n",
    "    \n",
    "    rec = array('d')\n",
    "    vec = array('d')\n",
    "    accelec = array('d')\n",
    "    \n",
    "    rec.append(r1[0])\n",
    "    rec.append(r1[1])\n",
    "    vec.append(v1[0])\n",
    "    vec.append(v1[1])\n",
    "    accelec.append(0)\n",
    "    accelec.append(0)\n",
    "    \n",
    "    tau = 0.02 # timestep in seconds\n",
    "    maxStep = 1000000 # maximum number of steps\n",
    "    \n",
    "    xplot = array('d')\n",
    "    yplot = array('d')\n",
    "    xplote = array('d')\n",
    "    yplote = array('d')\n",
    "    xplotec = array('d')\n",
    "    yplotec = array('d')\n",
    "    xNoAir = array('d')\n",
    "    yNoAir = array('d')\n",
    "    time = array('d')\n",
    "    timee = array('d')\n",
    "    timeec = array('d')\n",
    "    timeNoAir = array('d')\n",
    "    for iStep in range(1,maxStep+1):\n",
    "        \n",
    "        t = (iStep-1)*tau\n",
    "            \n",
    "        xplot.append(r[0])\n",
    "        yplot.append(r[1])\n",
    "        xplote.append(re[0])\n",
    "        yplote.append(re[1])\n",
    "        xplotec.append(rec[0])\n",
    "        yplotec.append(rec[1])\n",
    "        xNoAir.append(r1[0]+v1[0]*t)\n",
    "        yNoAir.append(r1[1]+v1[1]*t-0.5*grav*t*t)\n",
    "        \n",
    "        timeNoAir.append(t)\n",
    "        time.append(t)\n",
    "        timee.append(t)\n",
    "        timeec.append(t)\n",
    "        \n",
    "        # Euler Method\n",
    "        normVe = math.sqrt(ve[0]*ve[0]+ve[1]*ve[1])\n",
    "        accele[0]=air_const*normVe*ve[0]\n",
    "        accele[1]=air_const*normVe*ve[1]-grav\n",
    "        re[0] = re[0] + tau*ve[0]\n",
    "        re[1] = re[1] + tau*ve[1]\n",
    "        ve[0] = ve[0] + tau*accele[0]\n",
    "        ve[1] = ve[1] + tau*accele[1]\n",
    "        \n",
    "        # Euler-Cromer Method\n",
    "        normVec = math.sqrt(vec[0]*vec[0]+vec[1]*vec[1])\n",
    "        accelec[0]=air_const*normVec*vec[0]\n",
    "        accelec[1]=air_const*normVec*vec[1]-grav\n",
    "        vec[0] = vec[0] + tau*accelec[0]\n",
    "        vec[1] = vec[1] + tau*accelec[1]    \n",
    "        rec[0] = rec[0] + tau*vec[0]\n",
    "        rec[1] = rec[1] + tau*vec[1]\n",
    "        \n",
    "        # MidPoint Method\n",
    "        normV = math.sqrt(v[0]*v[0]+v[1]*v[1])\n",
    "        accel[0]=air_const*normV*v[0]\n",
    "        accel[1]=air_const*normV*v[1]-grav\n",
    "        vxnew = v[0] + tau*accel[0]\n",
    "        vynew = v[1] + tau*accel[1]\n",
    "        r[0] = r[0] + tau*(v[0] + vxnew)/2.0\n",
    "        r[1] = r[1] + tau*(v[1] + vynew)/2.0\n",
    "        v[0] = vxnew\n",
    "        v[1] = vynew\n",
    "        if r[1] < 0 and v[1] < 0:\n",
    "            xplot.append(r[0])\n",
    "            yplot.append(r[1])\n",
    "            xplote.append(re[0])\n",
    "            yplote.append(re[1])\n",
    "            xplotec.append(rec[0])\n",
    "            yplotec.append(rec[1])\n",
    "            time.append(tau*iStep)\n",
    "            timee.append(tau*iStep)\n",
    "            timeec.append(tau*iStep)\n",
    "            endtime = tau*iStep\n",
    "            nelements = iStep\n",
    "            break\n",
    "    theta_to_distance[theta] = r[0]"
   ],
   "metadata": {
    "collapsed": false,
    "ExecuteTime": {
     "end_time": "2023-10-05T22:36:14.274943400Z",
     "start_time": "2023-10-05T22:36:12.824030500Z"
    }
   }
  },
  {
   "cell_type": "code",
   "execution_count": 30,
   "outputs": [
    {
     "name": "stdout",
     "output_type": "stream",
     "text": [
      "Opimal theta is ~ 40.4 degrees with distance of 110.13 meters.\n"
     ]
    }
   ],
   "source": [
    "print(f\"Opimal theta is ~ {np.round(max(theta_to_distance, key=theta_to_distance.get), 2)} degrees with distance of {np.round(theta_to_distance[max(theta_to_distance, key=theta_to_distance.get)], 2)} meters.\")"
   ],
   "metadata": {
    "collapsed": false,
    "ExecuteTime": {
     "end_time": "2023-10-05T22:36:14.296441800Z",
     "start_time": "2023-10-05T22:36:14.279219100Z"
    }
   }
  },
  {
   "cell_type": "code",
   "execution_count": 33,
   "outputs": [
    {
     "name": "stdout",
     "output_type": "stream",
     "text": [
      "Percent error between angles is 44.29%\n"
     ]
    }
   ],
   "source": [
    "print(f\"Percent error between angles is {np.round((40.4 - 28)/28*100, 2)}%\")"
   ],
   "metadata": {
    "collapsed": false,
    "ExecuteTime": {
     "end_time": "2023-10-05T22:42:25.670165600Z",
     "start_time": "2023-10-05T22:42:25.634275300Z"
    }
   }
  },
  {
   "cell_type": "code",
   "execution_count": 35,
   "outputs": [
    {
     "name": "stdout",
     "output_type": "stream",
     "text": [
      "Percent error between distances is -6.26%\n"
     ]
    }
   ],
   "source": [
    "print(f\"Percent error between distances is {np.round((340 - 361.3)/340*100, 2)}%\")"
   ],
   "metadata": {
    "collapsed": false,
    "ExecuteTime": {
     "end_time": "2023-10-05T22:47:07.919009500Z",
     "start_time": "2023-10-05T22:47:07.905161800Z"
    }
   }
  },
  {
   "cell_type": "markdown",
   "source": [
    "Compared to the table from https://baseballsavant.mlb.com/statcast_hit_probability?year=2023&type=la, The calculated angle of 41.66 degrees is off by ~12.4 degrees from the experimental maximum of 28 degrees. The calculated max distance is roughly 361.3 feet, which is fairly close to the experimental maximum of 340 feet, off by ~6.3% (using the experimental as the expected/truth). Its interesting that the calculated max distance is relatively close to th experimental when considering that the angle had a percent error of 44.3%. This could be due to a multitude of reasons, with my primary heuristic being the physiological constraints humans might have in throwing baseballs. There is also uncertainty in the drag coefficients, as the experimental data (and model) doesn't account for spin."
   ],
   "metadata": {
    "collapsed": false
   }
  }
 ],
 "metadata": {
  "kernelspec": {
   "display_name": "Python 3",
   "language": "python",
   "name": "python3"
  },
  "language_info": {
   "codemirror_mode": {
    "name": "ipython",
    "version": 3
   },
   "file_extension": ".py",
   "mimetype": "text/x-python",
   "name": "python",
   "nbconvert_exporter": "python",
   "pygments_lexer": "ipython3",
   "version": "3.6.8"
  }
 },
 "nbformat": 4,
 "nbformat_minor": 2
}
